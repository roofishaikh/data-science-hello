{
  "nbformat": 4,
  "nbformat_minor": 0,
  "metadata": {
    "colab": {
      "provenance": [],
      "toc_visible": true,
      "authorship_tag": "ABX9TyPXihneslSDiLG4SQv/60UN",
      "include_colab_link": true
    },
    "kernelspec": {
      "name": "python3",
      "display_name": "Python 3"
    },
    "language_info": {
      "name": "python"
    }
  },
  "cells": [
    {
      "cell_type": "markdown",
      "metadata": {
        "id": "view-in-github",
        "colab_type": "text"
      },
      "source": [
        "<a href=\"https://colab.research.google.com/github/roofishaikh/data-science-hello/blob/main/MyFirstNotebook.ipynb\" target=\"_parent\"><img src=\"https://colab.research.google.com/assets/colab-badge.svg\" alt=\"Open In Colab\"/></a>"
      ]
    },
    {
      "cell_type": "code",
      "execution_count": 2,
      "metadata": {
        "colab": {
          "base_uri": "https://localhost:8080/"
        },
        "id": "xpXzSqUuC916",
        "outputId": "8fc9b5df-15dc-4e79-f403-a625d28536e0"
      },
      "outputs": [
        {
          "output_type": "stream",
          "name": "stdout",
          "text": [
            "Hello\n"
          ]
        }
      ],
      "source": [
        "print(\"Hello\")\n",
        "import pandas as pd"
      ]
    },
    {
      "cell_type": "markdown",
      "source": [
        "## Ingest"
      ],
      "metadata": {
        "id": "x-Xdi56lDqjb"
      }
    },
    {
      "cell_type": "code",
      "source": [],
      "metadata": {
        "id": "ASSddUV4DwRk"
      },
      "execution_count": null,
      "outputs": []
    },
    {
      "cell_type": "markdown",
      "source": [
        "\n",
        "## EDA"
      ],
      "metadata": {
        "id": "udGYD2tPDxPT"
      }
    },
    {
      "cell_type": "code",
      "source": [],
      "metadata": {
        "id": "YV1NSzqVDzVm"
      },
      "execution_count": null,
      "outputs": []
    },
    {
      "cell_type": "markdown",
      "source": [
        "## Model"
      ],
      "metadata": {
        "id": "9VF-uihaD17M"
      }
    },
    {
      "cell_type": "code",
      "source": [],
      "metadata": {
        "id": "xkU6rjCYD4LG"
      },
      "execution_count": null,
      "outputs": []
    },
    {
      "cell_type": "markdown",
      "source": [
        "## Conclusion\n"
      ],
      "metadata": {
        "id": "afPlYIKJD5F8"
      }
    },
    {
      "cell_type": "code",
      "source": [],
      "metadata": {
        "id": "ku_f9AHLD625"
      },
      "execution_count": null,
      "outputs": []
    }
  ]
}